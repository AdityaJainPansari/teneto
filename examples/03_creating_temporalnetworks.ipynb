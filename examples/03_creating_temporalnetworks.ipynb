{
 "metadata": {
  "name": ""
 },
 "nbformat": 3,
 "nbformat_minor": 0,
 "worksheets": [
  {
   "cells": [
    {
     "cell_type": "heading",
     "level": 1,
     "metadata": {},
     "source": [
      "Example 3: Creating temporal networks"
     ]
    },
    {
     "cell_type": "markdown",
     "metadata": {},
     "source": [
      "### Creating a matrix\n",
      "\n",
      "The simplest way to make a network is to make 3D numpy array."
     ]
    },
    {
     "cell_type": "markdown",
     "metadata": {},
     "source": [
      "Importing dependencies"
     ]
    },
    {
     "cell_type": "code",
     "collapsed": false,
     "input": [
      "%matplotlib inline\n",
      "import teneto\n",
      "import numpy as np\n",
      "import matplotlib.pyplot as plt"
     ],
     "language": "python",
     "metadata": {},
     "outputs": [],
     "prompt_number": 1
    },
    {
     "cell_type": "heading",
     "level": 3,
     "metadata": {},
     "source": [
      "Create 3D connectivity matrix in numpy"
     ]
    },
    {
     "cell_type": "code",
     "collapsed": false,
     "input": [
      "#Number of nodes\n",
      "N = 3\n",
      "#Number of time points\n",
      "T = 5\n",
      "connectionspresent = np.array([[0,1,0],[0,2,0],[0,2,1],[0,2,2],[1,2,2]])\n",
      "G = np.zeros([N,N,T])\n",
      "G[connectionspresent[:,0],connectionspresent[:,1],connectionspresent[:,2]] = 1"
     ],
     "language": "python",
     "metadata": {},
     "outputs": [],
     "prompt_number": 2
    },
    {
     "cell_type": "markdown",
     "metadata": {},
     "source": [
      "Obviously tedious to define every edge and will usually be predefined. So can be imported from `numpy.load`. Alternatively, `import scipy` and then `G = scipy.io.matlab.loadmat('path/to/matfile.mat')['variablename']`"
     ]
    },
    {
     "cell_type": "markdown",
     "metadata": {},
     "source": [
      "With the 3D numpy array it can then be used with all of teneto's functions"
     ]
    },
    {
     "cell_type": "code",
     "collapsed": false,
     "input": [
      "cfg={}\n",
      "cfg['timeunit'] = 'Years'\n",
      "C = teneto.utils.graphlet2contact(G,cfg)\n",
      "print(C)"
     ],
     "language": "python",
     "metadata": {},
     "outputs": [
      {
       "output_type": "stream",
       "stream": "stdout",
       "text": [
        "Assuming network is binary and directed.\n",
        "Warning, no sampling rate set. Assuming 1.\n",
        "{'nettype': 'bd', 'diagonal': 0, 'dimord': 'node,node,time', 'nLabs': '', 'contacts': array([[0, 1, 0],\n",
        "       [0, 2, 0],\n",
        "       [0, 2, 1],\n",
        "       [0, 2, 2],\n",
        "       [1, 2, 2]]), 't0': 1, 'netshape': (3, 3, 5), 'Fs': 1, 'timeunit': 'Years', 'timetype': 'discrete'}\n"
       ]
      }
     ],
     "prompt_number": 3
    },
    {
     "cell_type": "markdown",
     "metadata": {},
     "source": [
      "### Generatnig a matrix from teneto.generatenetwork\n",
      "\n",
      "Instead of manually specifying networks. It can be useful to generate networks probabalistically. At the moment there is only one function to generate networks (binary only) but more network generation functions will be created with time.\n",
      "\n",
      "In the `teneto.generatenetwork.rand_binomial` each connection is determined based on a binomial distribution. It takes two necessary inputs: size of network and probaability of connection. Additional inputs such as whether the output shouldbe graphlet or contact and if the network should be directed or undirected. Each edge is determined independently of all others (i.e. if p=0.5 each each has a 50% chance of being possible)."
     ]
    },
    {
     "cell_type": "code",
     "collapsed": false,
     "input": [
      "np.random.seed(2017) # For reproduceability\n",
      "# Number of nodes\n",
      "N = 3\n",
      "# Number of timepoints\n",
      "T = 5\n",
      "# Probability of edge activation\n",
      "p = 0.5\n",
      "C1 = teneto.generatenetwork.rand_binomial([N,N,T],p,'contact','bu')"
     ],
     "language": "python",
     "metadata": {},
     "outputs": [
      {
       "output_type": "stream",
       "stream": "stdout",
       "text": [
        "Warning, no sampling rate set. Assuming 1.\n"
       ]
      }
     ],
     "prompt_number": 4
    },
    {
     "cell_type": "markdown",
     "metadata": {},
     "source": [
      "It is also ppossible to add network information for contact representation which then carries through to plotting funcitons. This is done by giving a dictionary to the netinfo argument."
     ]
    },
    {
     "cell_type": "code",
     "collapsed": false,
     "input": [
      "np.random.seed(2017) # For reproduceability\n",
      "# Number of nodes\n",
      "N = 3\n",
      "# Number of timepoints\n",
      "T = 5\n",
      "# Probability of edge activation\n",
      "p = 0.5\n",
      "# Specify network information\n",
      "cfg={}\n",
      "cfg['timeunit']='Seconds'\n",
      "cfg['Fs']=0.2\n",
      "#Generate network\n",
      "C2 = teneto.generatenetwork.rand_binomial([N,N,T],p,'contact','bu',netinfo=cfg)"
     ],
     "language": "python",
     "metadata": {},
     "outputs": [],
     "prompt_number": 5
    },
    {
     "cell_type": "markdown",
     "metadata": {},
     "source": [
      "Displaying the network"
     ]
    },
    {
     "cell_type": "code",
     "collapsed": false,
     "input": [
      "# Create matplotlib figure\n",
      "fig,ax = plt.subplots(figsize=(10,3))\n",
      "ax = plt.subplot(1,1,1)\n",
      "ax = teneto.plot.graphlet_stack_plot(C2,ax,q=10,cmap='Reds')"
     ],
     "language": "python",
     "metadata": {},
     "outputs": [
      {
       "output_type": "display_data",
       "png": "[encoded data removed]",
       "text": [
        "<matplotlib.figure.Figure at 0x7f3ab9fc9358>"
       ]
      }
     ],
     "prompt_number": 6
    },
    {
     "cell_type": "markdown",
     "metadata": {},
     "source": [
      "To make the networks a little more complex, the probabailities of rand_binomial can be set so differently for edges that have previously been active. Instead of passing a single integer to p, you can pass a list of 2 values. The first value is the probabililty for edges who, at t-1=0 will be active at t (is sometimes called the birth-rate). The second value is the probabaility of edges who, at t-1=0 will be active at t (sometimes called the death-rate). The latter value helps create an autocorrelation."
     ]
    },
    {
     "cell_type": "code",
     "collapsed": false,
     "input": [
      "np.random.seed(2017) # For reproduceability\n",
      "# Number of nodes\n",
      "N = 5\n",
      "# Number of timepoints\n",
      "T = 10\n",
      "# Probability of edge activation\n",
      "p0to1 = .25\n",
      "p1to1 = 0.75\n",
      "# Specify network information\n",
      "cfg={}\n",
      "cfg['timeunit']='Seconds'\n",
      "cfg['Fs']=0.2\n",
      "#Generate network\n",
      "C3 = teneto.generatenetwork.rand_binomial([N,N,T],[p0to1,p1to1],'contact','bu',netinfo=cfg,)"
     ],
     "language": "python",
     "metadata": {},
     "outputs": [],
     "prompt_number": 7
    },
    {
     "cell_type": "markdown",
     "metadata": {},
     "source": [
      "Displaying the network"
     ]
    },
    {
     "cell_type": "code",
     "collapsed": false,
     "input": [
      "%matplotlib inline\n",
      "import teneto\n",
      "import numpy as np\n",
      "import matplotlib.pyplot as plt\n",
      "# Create matplotlib figure\n",
      "fig,ax = plt.subplots(figsize=(10,3))\n",
      "ax = plt.subplot(1,1,1)\n",
      "ax = teneto.plot.slice_plot(C3,ax,cmap='Greys')"
     ],
     "language": "python",
     "metadata": {},
     "outputs": [
      {
       "ename": "TypeError",
       "evalue": "slice_plot() got an unexpected keyword argument 'cmap'",
       "output_type": "pyerr",
       "traceback": [
        "\u001b[1;31m---------------------------------------------------------------------------\u001b[0m",
        "\u001b[1;31mTypeError\u001b[0m                                 Traceback (most recent call last)",
        "\u001b[1;32m<ipython-input-8-5ae97a23562b>\u001b[0m in \u001b[0;36m<module>\u001b[1;34m()\u001b[0m\n\u001b[0;32m      6\u001b[0m \u001b[0mfig\u001b[0m\u001b[1;33m,\u001b[0m\u001b[0max\u001b[0m \u001b[1;33m=\u001b[0m \u001b[0mplt\u001b[0m\u001b[1;33m.\u001b[0m\u001b[0msubplots\u001b[0m\u001b[1;33m(\u001b[0m\u001b[0mfigsize\u001b[0m\u001b[1;33m=\u001b[0m\u001b[1;33m(\u001b[0m\u001b[1;36m10\u001b[0m\u001b[1;33m,\u001b[0m\u001b[1;36m3\u001b[0m\u001b[1;33m)\u001b[0m\u001b[1;33m)\u001b[0m\u001b[1;33m\u001b[0m\u001b[0m\n\u001b[0;32m      7\u001b[0m \u001b[0max\u001b[0m \u001b[1;33m=\u001b[0m \u001b[0mplt\u001b[0m\u001b[1;33m.\u001b[0m\u001b[0msubplot\u001b[0m\u001b[1;33m(\u001b[0m\u001b[1;36m1\u001b[0m\u001b[1;33m,\u001b[0m\u001b[1;36m1\u001b[0m\u001b[1;33m,\u001b[0m\u001b[1;36m1\u001b[0m\u001b[1;33m)\u001b[0m\u001b[1;33m\u001b[0m\u001b[0m\n\u001b[1;32m----> 8\u001b[1;33m \u001b[0max\u001b[0m \u001b[1;33m=\u001b[0m \u001b[0mteneto\u001b[0m\u001b[1;33m.\u001b[0m\u001b[0mplot\u001b[0m\u001b[1;33m.\u001b[0m\u001b[0mslice_plot\u001b[0m\u001b[1;33m(\u001b[0m\u001b[0mC3\u001b[0m\u001b[1;33m,\u001b[0m\u001b[0max\u001b[0m\u001b[1;33m,\u001b[0m\u001b[0mcmap\u001b[0m\u001b[1;33m=\u001b[0m\u001b[1;34m'Greys'\u001b[0m\u001b[1;33m)\u001b[0m\u001b[1;33m\u001b[0m\u001b[0m\n\u001b[0m",
        "\u001b[1;31mTypeError\u001b[0m: slice_plot() got an unexpected keyword argument 'cmap'"
       ]
      },
      {
       "output_type": "display_data",
       "png": "[encoded data removed]",
       "text": [
        "<matplotlib.figure.Figure at 0x7f3ac080c198>"
       ]
      }
     ],
     "prompt_number": 8
    },
    {
     "cell_type": "markdown",
     "metadata": {},
     "source": [
      "This flexibility allows for the creation of different types of networks. For example, let us say that, once connected, a connection cannot be lost. Then p1to1=1 and edges can only increase.\n",
      "\n",
      "As can be seen in the plot above, at the first time-point, all edges are 0. This may not be what we want. An alternative is to change the parameter `initialize`. This is the percentage of nodes that should be active at the first time-point. This is set in the example below."
     ]
    },
    {
     "cell_type": "code",
     "collapsed": false,
     "input": [
      "np.random.seed(2017) # For reproduceability\n",
      "# Number of nodes\n",
      "N = 10\n",
      "# Number of timepoints\n",
      "T = 20\n",
      "# Probability of edge activation\n",
      "p0to1 = .1\n",
      "p1to1 = 1\n",
      "# Percentage of nodes active at time index 0.\n",
      "initialize = 0.1\n",
      "# Specify network information\n",
      "cfg={}\n",
      "cfg['timeunit']='Days'\n",
      "cfg['Fs']=1\n",
      "#Generate network\n",
      "C4 = teneto.generatenetwork.rand_binomial([N,N,T],[p0to1,p1to1],'contact','bu',netinfo=cfg,initialize=initialize)"
     ],
     "language": "python",
     "metadata": {},
     "outputs": [],
     "prompt_number": null
    },
    {
     "cell_type": "markdown",
     "metadata": {},
     "source": [
      "Displaying the network"
     ]
    },
    {
     "cell_type": "code",
     "collapsed": false,
     "input": [
      "# Create matplotlib figure\n",
      "fig,ax = plt.subplots(figsize=(15,10))\n",
      "ax = plt.subplot(1,1,1)\n",
      "ax = teneto.plot.graphlet_stack_plot(C4,ax,q=10,cmap='Greys')"
     ],
     "language": "python",
     "metadata": {},
     "outputs": [],
     "prompt_number": null
    },
    {
     "cell_type": "markdown",
     "metadata": {},
     "source": [
      "If we instead set p0to1=1 we will make sure that a node never has two consecutive activations. Despite this flexibility, the possibilities of generating networks are still a little limitted. Additional generating tools will be added in later versions."
     ]
    },
    {
     "cell_type": "markdown",
     "metadata": {},
     "source": [
      "*Written for v0.1.4*"
     ]
    }
   ],
   "metadata": {}
  }
 ]
}
