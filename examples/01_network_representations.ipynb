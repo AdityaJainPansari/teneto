{
 "metadata": {
  "name": ""
 },
 "nbformat": 3,
 "nbformat_minor": 0,
 "worksheets": [
  {
   "cells": [
    {
     "cell_type": "markdown",
     "metadata": {},
     "source": [
      "# Example 1: Network Representations\n",
      "\n",
      "\n",
      " Conceptual introduction\n",
      "\n",
      "In this example we will review the two different network representations which are used in Teneto. These are *graphlets* and *contact* representations. In this noteboot, it is shown how Teneto can translate between these.\n",
      "\n",
      "Temporal networks have connections (edges) between nodes through time. In a \"static\" (non-temporal) network connections between a group of nodes can be represented in a 2-dimensional array where each dimension contains the number of nodes (i.e. the array contains: node x node).\n",
      "\n",
      "With time, the simplest way to represent this numerically is a 3-dimesnional array (node x node x time). This means that every index in the temporal dimension gives a traditional static connectivity matrix.\n",
      "\n",
      "When a network is sparse (i.e. many connections are 0) it may not be efficient to have . Thus another way to represent the 3D network is to list the connections. Instead of every possible connection existing, we instead create a 2-dimensional arraw where each row is a new edge and the columns represent a (node x node x time) index.\n",
      "\n",
      "The two main types of network representations are *graphlets* (3D array) and *contact* representations (time stamps of edges).\n",
      "\n",
      "Graphlets are a 3D array form of the network in a numpy array. Contact are python dictionaries that contain the temporal stamps of edges (and more information).\n",
      "More of a general introduction to temporal networks and some of the measures in temporal network theory can be found here: http://biorxiv.org/content/early/2016/12/24/096461\n",
      "\n",
      "Note: Different software tools for network theory (e.g. pajek, networkx) represent their networks in certain ways. We currently do not have conversion tools between their ways of representing networks. However, compatibilitiy with other software representations will be developed sometime in 2017."
     ]
    },
    {
     "cell_type": "markdown",
     "metadata": {},
     "source": [
      "### Graphlet representation\n",
      "\n",
      "First we need to import modules"
     ]
    },
    {
     "cell_type": "code",
     "collapsed": false,
     "input": [
      "import teneto\n",
      "import numpy as np"
     ],
     "language": "python",
     "metadata": {},
     "outputs": [],
     "prompt_number": 1
    },
    {
     "cell_type": "markdown",
     "metadata": {},
     "source": [
      "Then we need to generate a binary undirected network to work with. Here we have 5 nodes over 10 time points. There is a 0.2% probability each 0. (see the generate_network example for more information)"
     ]
    },
    {
     "cell_type": "code",
     "collapsed": false,
     "input": [
      "np.random.seed(2017) # For reproduceability\n",
      "# Number of nodes\n",
      "N = 5\n",
      "# Number of timepoints\n",
      "T = 10\n",
      "# Probability of edge activation\n",
      "p0to1 = 0.2\n",
      "p1to1 = .9\n",
      "G = teneto.generatenetwork.rand_binomial([N,N,T],[p0to1, p1to1],'graphlet','bu')"
     ],
     "language": "python",
     "metadata": {},
     "outputs": [],
     "prompt_number": 2
    },
    {
     "cell_type": "markdown",
     "metadata": {},
     "source": [
      "`G` is a graphlet representation. This is just a numpy array or NxNxT in shape."
     ]
    },
    {
     "cell_type": "code",
     "collapsed": false,
     "input": [
      "#Show size of array (Will show: (5,5,10))\n",
      "print(G.shape)\n",
      "#Show that it is numpy array (will show \"numpy.float64\")\n",
      "print(G.dtype.type)\n",
      "print(G[:,:,5])"
     ],
     "language": "python",
     "metadata": {},
     "outputs": [
      {
       "output_type": "stream",
       "stream": "stdout",
       "text": [
        "(5, 5, 10)\n",
        "<class 'numpy.float64'>\n",
        "[[ 0.  1.  1.  0.  1.]\n",
        " [ 1.  0.  1.  1.  1.]\n",
        " [ 1.  1.  0.  0.  1.]\n",
        " [ 0.  1.  0.  0.  0.]\n",
        " [ 1.  1.  1.  0.  0.]]\n"
       ]
      }
     ],
     "prompt_number": 3
    },
    {
     "cell_type": "markdown",
     "metadata": {},
     "source": [
      "If we look at the 6th time-point `G[:,:,5]` we get a connectivity array at that time point (normal 2D network)  Here we see the connections between all the 5 nodes at time-point 6. A 1 represents the connection is present and a zero represent a connection is absent. We see that node 0 is connected to all other nodes except node 3."
     ]
    },
    {
     "cell_type": "markdown",
     "metadata": {},
     "source": [
      "### Contact Representation\n",
      "\n",
      "Graphlets are what most of teneto's networkmeasure functions when called. However, they lack additional information about the network. The contact representation allows this information. This network information can be kept and used in plotting. Graphlet scan be converted to contact representations through `teneto.utils.graphlet2contact`. All funcitons can accept contact or graphlet representations.\n",
      "\n",
      "Below we see a python dictionary with time stamps of edges in the 'contact' key. In each row of the array we have (nodeindex,nodeindex,timestamp) - 'dimord' (dimension order) confirms this). Other information is present in the dictionary 'Fs' (sampling rate), 'timeunit', 'nettype', 'timetype', `nLabs`, `t0`."
     ]
    },
    {
     "cell_type": "code",
     "collapsed": false,
     "input": [
      "C = teneto.utils.graphlet2contact(G)\n",
      "print(C)"
     ],
     "language": "python",
     "metadata": {},
     "outputs": [
      {
       "output_type": "stream",
       "stream": "stdout",
       "text": [
        "Assuming network is binary and undirected.\n",
        "Warning, no sampling rate set. Assuming 1.\n",
        "{'nLabs': '', 'diagonal': 0, 'Fs': 1, 'dimord': 'node,node,time', 'netshape': (5, 5, 10), 'timetype': 'discrete', 'nettype': 'bu', 't0': 1, 'contacts': array([[0, 4, 1],\n",
        "       [0, 4, 2],\n",
        "       [0, 4, 3],\n",
        "       [0, 1, 3],\n",
        "       [1, 4, 3],\n",
        "       [1, 3, 4],\n",
        "       [0, 4, 4],\n",
        "       [1, 4, 4],\n",
        "       [0, 1, 4],\n",
        "       [0, 2, 4],\n",
        "       [2, 4, 4],\n",
        "       [1, 4, 5],\n",
        "       [1, 3, 5],\n",
        "       [2, 4, 5],\n",
        "       [1, 2, 5],\n",
        "       [0, 1, 5],\n",
        "       [0, 4, 5],\n",
        "       [0, 2, 5],\n",
        "       [0, 2, 6],\n",
        "       [1, 3, 6],\n",
        "       [1, 2, 6],\n",
        "       [1, 4, 6],\n",
        "       [0, 4, 6],\n",
        "       [0, 1, 6],\n",
        "       [2, 3, 6],\n",
        "       [1, 4, 7],\n",
        "       [0, 3, 7],\n",
        "       [2, 3, 7],\n",
        "       [1, 3, 7],\n",
        "       [0, 2, 7],\n",
        "       [0, 4, 7],\n",
        "       [0, 1, 7],\n",
        "       [1, 4, 8],\n",
        "       [2, 3, 8],\n",
        "       [0, 4, 8],\n",
        "       [1, 3, 8],\n",
        "       [3, 4, 8],\n",
        "       [0, 3, 8],\n",
        "       [0, 2, 8],\n",
        "       [0, 1, 8],\n",
        "       [0, 4, 9],\n",
        "       [0, 3, 9],\n",
        "       [1, 4, 9],\n",
        "       [0, 2, 9],\n",
        "       [2, 3, 9],\n",
        "       [0, 1, 9],\n",
        "       [1, 3, 9],\n",
        "       [3, 4, 9]]), 'timeunit': ''}\n"
       ]
      }
     ],
     "prompt_number": 4
    },
    {
     "cell_type": "markdown",
     "metadata": {},
     "source": [
      "the output of C['contacts'] shows each the indexes where a 1 is present in the graphlet representation. (i.e. the index where there is a 1 in the graphlet representation.)"
     ]
    },
    {
     "cell_type": "markdown",
     "metadata": {},
     "source": [
      "# Specifying information in contact representation\n",
      "\n",
      "It is possible for us to add information into the contact representation. This information is then useful at later stages (e.g. when plotting).\n",
      "\n",
      "We add this informaiton by passing a dictionary of arguments (called `cfg` below) where the different keys of the cfg are the corresponding names of the keys in the contact representation.\n",
      "\n",
      "While the standard there are keys which are always in every contact representation sampling rate (`Fs`), units of time (`timeunit`), network type (`nettype`) node names (`nLabs`), first time index (`t0`). If unspecified, these are left blank or set to simple defaults (and often warnings are printed here). The user is also able to specify additional parameters that are to be included (example below used `experimental parameter`)"
     ]
    },
    {
     "cell_type": "code",
     "collapsed": false,
     "input": [
      "cfg={}\n",
      "cfg['Fs']=0.1\n",
      "cfg['timeunit']='seconds'\n",
      "cfg['nettype']='bu'\n",
      "cfg['nLabs'] = ['Ashley','Blake','Casey','Dylan','Elliot']\n",
      "# add user specified information\n",
      "cfg['experimental parameter'] = 'group A'\n",
      "C = teneto.utils.graphlet2contact(G,cfg)\n",
      "\n",
      "# Will say: 'group A'\n",
      "print(C['experimental parameter'])\n",
      "# Will say: 0.1\n",
      "print(C['Fs'])\n",
      "# Will say: 'seconds'\n",
      "print(C['timeunit'])"
     ],
     "language": "python",
     "metadata": {},
     "outputs": [
      {
       "output_type": "stream",
       "stream": "stdout",
       "text": [
        "group A\n",
        "0.1\n",
        "seconds\n"
       ]
      }
     ],
     "prompt_number": 5
    },
    {
     "cell_type": "markdown",
     "metadata": {},
     "source": [
      " To see the above information is useful in Teneto, we can plot the network (C) and this information within C is automatically placed on the figure (see 02_plotting_temporalnetworks for more information). Here we can see the node names, time unit and sampling rate all automatically correct on the figure below. "
     ]
    },
    {
     "cell_type": "code",
     "collapsed": false,
     "input": [
      "%matplotlib inline\n",
      "import matplotlib.pyplot as plt\n",
      "fig,ax = plt.subplots()\n",
      "ax = plt.subplot(1,1,1)\n",
      "ax = teneto.plot.slice_plot(C,ax)"
     ],
     "language": "python",
     "metadata": {},
     "outputs": [
      {
       "output_type": "display_data",
       "png": "[encoded data removed]",
       "text": [
        "<matplotlib.figure.Figure at 0x7f9755f4f390>"
       ]
      }
     ],
     "prompt_number": 6
    },
    {
     "cell_type": "markdown",
     "metadata": {},
     "source": [
      "### Translating back to graphlets\n",
      "\n",
      "Just as graphlets can be converted to contact representations, the reverse is possible. This is used in many functions where the input is a contact representation. We can also verify that the new Graphlet (G2) is identical to G1. The remaning dictionary information is lost."
     ]
    },
    {
     "cell_type": "code",
     "collapsed": false,
     "input": [
      "G2 = teneto.utils.contact2graphlet(C)\n",
      "print(np.sum(G2==G)/G.size)"
     ],
     "language": "python",
     "metadata": {},
     "outputs": [
      {
       "output_type": "stream",
       "stream": "stdout",
       "text": [
        "1.0\n"
       ]
      }
     ],
     "prompt_number": 7
    },
    {
     "cell_type": "markdown",
     "metadata": {},
     "source": [
      "The contact and graphlet repesentations form the background of teneto input to various functions. They can be plotted (see plotting functions). Or quantify different properties (see measures)\n",
      "\n",
      "*Written for v0.1.1*"
     ]
    }
   ],
   "metadata": {}
  }
 ]
}
