{
 "cells": [
  {
   "cell_type": "markdown",
   "metadata": {},
   "source": [
    "# Example 1: Network Representations\n",
    "Teneto is designed to use different types of input and can translate between them.\n",
    "\n",
    "The two main types of network representations are *graphlets* and *contact* representations.\n",
    "\n",
    "Graphlets are a 3D matrix form of the network in a numpy array. Contact are python dictionaries that contain the temporal stamps of edges (and more information). Teneto can translate between the two representations.\n",
    "\n",
    "Note: Compatibilitiy with other software representations will be developed sometime in 2017."
   ]
  },
  {
   "cell_type": "markdown",
   "metadata": {},
   "source": [
    "### Graphlet representation\n",
    "\n",
    "First we need to import modules"
   ]
  },
  {
   "cell_type": "code",
   "execution_count": null,
   "metadata": {
    "collapsed": false
   },
   "outputs": [],
   "source": [
    "import teneto\n",
    "import numpy as np\n",
    "\n",
    "# Then we need to generate a binary undirected network to work with. Here we have 5 nodes over 10 time points. There is a 0.2% probability each 0. (see the generate_network example for more information)"
   ]
  },
  {
   "cell_type": "code",
   "execution_count": null,
   "metadata": {
    "collapsed": false
   },
   "outputs": [],
   "source": [
    "np.random.seed(2017) # For reproduceability\n",
    "# Number of nodes\n",
    "N = 5\n",
    "# Number of timepoints\n",
    "T = 10\n",
    "# Probability of edge activation\n",
    "p0to1 = 0.2\n",
    "p1to0 = .9\n",
    "G = teneto.generate.rand_binomial([N,N,T],[p0to1, p1to0],'graphlet','bu')"
   ]
  },
  {
   "cell_type": "markdown",
   "metadata": {},
   "source": [
    "`G` is a graphlet representation. This is just a numpy array or NxNxT in shape."
   ]
  },
  {
   "cell_type": "code",
   "execution_count": null,
   "metadata": {
    "collapsed": false
   },
   "outputs": [],
   "source": [
    "#Show size of matrix (Will show: (5,5,10))\n",
    "print(G.shape)\n",
    "#Show that it is numpy array (will show \"numpy.float64\")\n",
    "print(G.dtype.type)"
   ]
  },
  {
   "cell_type": "markdown",
   "metadata": {},
   "source": [
    "If we look at the 6th time-point `G[:,:,5]` we get the following connectivity matrix at that time point:\n",
    "\n",
    "> ([[ 0.,  1.,  1.,  0.,  1.],\n",
    "> [ 1.,  0.,  1.,  1.,  1.],\n",
    "> [ 1.,  1.,  0.,  0.,  1.],\n",
    "> [ 0.,  1.,  0.,  0.,  0.],\n",
    "> [ 1.,  1.,  1.,  0.,  0.]])\n",
    "\n",
    "Here we see the connections between all the 5 nodes at time-point 6. A 1 represents the connection is present and a zero represent a connection is absent. We see that node 0 is connected to all other nodes except node 3."
   ]
  },
  {
   "cell_type": "code",
   "execution_count": null,
   "metadata": {
    "collapsed": false
   },
   "outputs": [],
   "source": [
    "#Show size of matrix (Will show: (5,5,10))\n",
    "print(G.shape)\n",
    "#Show that it is numpy array (will show \"numpy.float64\")\n",
    "print(G.dtype.type)"
   ]
  },
  {
   "cell_type": "markdown",
   "metadata": {},
   "source": [
    "### Contact Representation\n",
    "\n",
    "Graphlets are what most of teneto's functions use. However, they lack additional information about the network. The contact representation allows this information. This network information can be kept and used in plotting. Graphlet scan be converted to contact representations through `teneto.utils.graphlet2contact`.\n",
    "\n",
    "Below we see a python dictionary with time stamps of edges in the 'contact' key. In each row of the array we have (nodeindex,nodeindex,timestamp) - 'dimord' (dimension order) confirms this). Other information is present in the dictionary 'Fs' (sampling rate), 'timeunit', 'nettype', 'timetype'. The user can add additional information (e.g node namdes). When no input is specfied, nettype is determined automatically and Fs is set to 1."
   ]
  },
  {
   "cell_type": "code",
   "execution_count": null,
   "metadata": {
    "collapsed": false
   },
   "outputs": [],
   "source": [
    "C = teneto.utils.graphlet2contact(G)\n",
    "print(C)"
   ]
  },
  {
   "cell_type": "markdown",
   "metadata": {},
   "source": [
    "the output of C gives:\n",
    "\n",
    "> {'netshape': (5, 5, 10), 'timeunits': '', 'diagonal': 0, 'dimord': 'node,node,time', 'nettype': 'bu', 'timetype': 'discrete', 'Fs': 1, 'contacts': array([[0, 4, 1],[0, 4, 2],[0, 4, 3],**...**,[3, 4, 9]])}\n",
    "\n",
    "(Contacts ommitted at **...** for readability). Each of the contacts corresponds to indexes where a 1 connection is present (i.e. the index where there is a 1 in the graphlet representation.) "
   ]
  },
  {
   "cell_type": "markdown",
   "metadata": {},
   "source": [
    "# Specifying information in contact representation\n",
    "\n",
    "It is possible for us to set the different aspects of the contact rerpesentation."
   ]
  },
  {
   "cell_type": "code",
   "execution_count": null,
   "metadata": {
    "collapsed": false
   },
   "outputs": [],
   "source": [
    "cfg={}\n",
    "cfg['Fs']=0.1\n",
    "cfg['timeunits']='seconds'\n",
    "cfg['nettype']='bu'\n",
    "# add user specified information\n",
    "cfg['experimental parameter'] = 'group A'\n",
    "C = teneto.utils.graphlet2contact(G,cfg)\n",
    "\n",
    "# Will say: 'group A'\n",
    "print(C['experimental parameter'])\n",
    "# Will say: 0.1\n",
    "print(C['Fs'])\n",
    "# Will say: 'seconds'\n",
    "print(C['timeunits'])"
   ]
  },
  {
   "cell_type": "markdown",
   "metadata": {},
   "source": [
    " Note that timetype='discrete' and dimord='node,node,time' are currently default and no alternatives are available at present (though this can change in the future, hence why they are set). Also, it is planned additional fields will become integrated over time (e.g. names of nodes).\n",
    "\n",
    "### contact2graphlet\n",
    "\n",
    "Just as graphlets can be converted to contact representations, the reverse is possible. This is used in many functions where the input is a contact representation. We can also verify that the new Graphlet (G2) is identical to G1. The remaning dictionary information is lost."
   ]
  },
  {
   "cell_type": "code",
   "execution_count": null,
   "metadata": {
    "collapsed": false
   },
   "outputs": [],
   "source": [
    "G2 = teneto.utils.contact2graphlet(C)\n",
    "print(np.sum(G2==G)/G.size)"
   ]
  },
  {
   "cell_type": "markdown",
   "metadata": {},
   "source": [
    "The contact and graphlet repesentations form the background of teneto input to various functions. They can be plotted (see plotting functions). Or quantify different properties (see measures)\n",
    "\n",
    "*Written for v0.1.1*"
   ]
  }
 ],
 "metadata": {},
 "nbformat": 4,
 "nbformat_minor": 0
}
