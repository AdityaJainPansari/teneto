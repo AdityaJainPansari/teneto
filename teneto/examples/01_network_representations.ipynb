{
 "cells": [
  {
   "cell_type": "markdown",
   "metadata": {},
   "source": [
    "# Example 1: Network Representatoins\n",
    "Teneto is designed to use different types of input and can translate between them.\n",
    "\n",
    "The two main types of network representations are \"graphlets\" and \"contact\" representations. Graphlets are a 3D matrix form of the network. Contact contains the temporal stamps of edges (and more). Teneto can translate between the two representations.\n",
    "\n",
    "Note: Compatibilitiy with other software representations will be developed sometime in 2017."
   ]
  },
  {
   "cell_type": "code",
   "execution_count": null,
   "metadata": {
    "collapsed": false
   },
   "outputs": [],
   "source": [
    "import teneto\n",
    "import numpy as np"
   ]
  },
  {
   "cell_type": "code",
   "execution_count": null,
   "metadata": {
    "collapsed": false
   },
   "outputs": [],
   "source": [
    "np.random.seed(2017) # For reproduceability\n",
    "# Number of nodes\n",
    "N = 5\n",
    "# Number of timepoints\n",
    "T = 10\n",
    "# Probability of edge activation\n",
    "p0to1 = 0.2\n",
    "p1to0 = .9\n",
    "G = teneto.generate.rand_binomial([N,N,T],[p0to1, p1to0],'graphlet','bu')"
   ]
  },
  {
   "cell_type": "markdown",
   "metadata": {},
   "source": [
    "`G` is a graphlet representation. This is just a numpy array or NxNxT in shape."
   ]
  },
  {
   "cell_type": "code",
   "execution_count": null,
   "metadata": {
    "collapsed": false
   },
   "outputs": [],
   "source": [
    "#Show size of matrix\n",
    "print(G.shape)\n",
    "#Show that it is numpy array\n",
    "print(G.dtype)"
   ]
  },
  {
   "cell_type": "markdown",
   "metadata": {},
   "source": [
    "Currently, graphlets are what most of teneto's functions use. However, they lack information about the network. The contact representation allows this network information to be present. This network information can be kept and used in plotting. Graphlet scan be converted to contact representations through `teneto.utils.graphlet2contact`.\n",
    "\n",
    "Below we see a python dictionary with time stamps of edges in the 'contact' key. In each row of the array we have (nodeindex,nodeindex,timestamp) - 'dimord' (dimension order) confirms this). Other information is present in the dictionary 'Fs' (sampling rate), 'timeunit', 'nettype', 'timetype'. The user can add additional information (e.g node namdes). When no input is specfied, nettype is determined automatically and Fs is set to 1."
   ]
  },
  {
   "cell_type": "code",
   "execution_count": null,
   "metadata": {
    "collapsed": false
   },
   "outputs": [],
   "source": [
    "C = teneto.utils.graphlet2contact(G)\n",
    "print(C)"
   ]
  },
  {
   "cell_type": "markdown",
   "metadata": {},
   "source": [
    "It is possible for us to set the different aspects of"
   ]
  },
  {
   "cell_type": "code",
   "execution_count": null,
   "metadata": {
    "collapsed": false
   },
   "outputs": [],
   "source": [
    "cfg={}\n",
    "cfg['Fs']=0.1\n",
    "cfg['timeunits']='seconds'\n",
    "cfg['nettype']='bu'\n",
    "# add user specified information\n",
    "cfg['experimental parameter'] = 'group A'\n",
    "C = teneto.utils.graphlet2contact(G,cfg)\n",
    "print(C['experimental parameter'])\n",
    "print(C['Fs'])\n",
    "print(C['timeunits'])\n",
    "\n",
    "# <Mardowncell>\n",
    "\n",
    "#Note that timetype='discrete' and dimord='node,node,time' are currently default and no alternatives are available at present (though this can change in the future, hence why they are specified). Also, it is planned additional fields will become integrated over time (e.g. names of nodes).\n",
    "\n",
    "# Just as graphlets can be converted to contact representations, the reverse is possible. This is used in many functions where the input is a contact representation. We can also verify that the new Graphlet (G2) is identical to G1."
   ]
  },
  {
   "cell_type": "code",
   "execution_count": null,
   "metadata": {
    "collapsed": false
   },
   "outputs": [],
   "source": [
    "G2 = teneto.utils.contact2graphlet(C)\n",
    "print(np.sum(G2==G)/G.size)"
   ]
  },
  {
   "cell_type": "markdown",
   "metadata": {},
   "source": [
    "The contact and graphlet repesentations form the background of teneto input to various functions. They can be plotted (see plotting functions). Or quantify different properties (see measures)"
   ]
  }
 ],
 "metadata": {},
 "nbformat": 4,
 "nbformat_minor": 0
}
